{
  "nbformat": 4,
  "nbformat_minor": 0,
  "metadata": {
    "colab": {
      "provenance": [],
      "authorship_tag": "ABX9TyMDWMwZqcXDMv1J/PfBVwNk",
      "include_colab_link": true
    },
    "kernelspec": {
      "name": "python3",
      "display_name": "Python 3"
    },
    "language_info": {
      "name": "python"
    }
  },
  "cells": [
    {
      "cell_type": "markdown",
      "metadata": {
        "id": "view-in-github",
        "colab_type": "text"
      },
      "source": [
        "<a href=\"https://colab.research.google.com/github/Gokul-06/Randomforest/blob/main/RandomForrest.ipynb\" target=\"_parent\"><img src=\"https://colab.research.google.com/assets/colab-badge.svg\" alt=\"Open In Colab\"/></a>"
      ]
    },
    {
      "cell_type": "code",
      "execution_count": 24,
      "metadata": {
        "colab": {
          "base_uri": "https://localhost:8080/"
        },
        "id": "gaOVfFAXtZvn",
        "outputId": "84f21a4d-6e8a-42bc-9c38-5648f2042dc6"
      },
      "outputs": [
        {
          "output_type": "stream",
          "name": "stdout",
          "text": [
            "['sepal length (cm)', 'sepal width (cm)', 'petal length (cm)', 'petal width (cm)']\n",
            "['setosa' 'versicolor' 'virginica']\n",
            "[0.11873019 0.02240127 0.36580455 0.49306399]\n",
            "[0.11873019 0.02240127 0.36580455 0.49306399]\n",
            "[0]\n",
            "[0]\n",
            "[[1. 0. 0.]]\n",
            "[0]\n",
            "[[1. 0. 0.]]\n",
            "[0 1 2 1 1 2 0 1 2 0 0 0 2 1 1 1 1 2 1 1 1 1 1 1 2 2 2 2 0 0]\n",
            "[0 1 2 1 1 2 0 1 2 0 0 0 2 1 1 1 1 2 1 1 2 1 1 2 2 2 2 2 0 0]\n",
            "0.9333333333333333\n"
          ]
        }
      ],
      "source": [
        "from sklearn import datasets\n",
        "from sklearn.model_selection import train_test_split\n",
        "from sklearn.ensemble import RandomForestClassifier\n",
        "from sklearn.datasets import make_classification\n",
        "iris = datasets.load_iris()\n",
        "print(iris.feature_names)\n",
        "print(iris.target_names)\n",
        "iris.data\n",
        "iris.target\n",
        "X = iris.data\n",
        "Y = iris.target\n",
        "X.shape\n",
        "Y.shape\n",
        "clf = RandomForestClassifier()\n",
        "clf.fit(X, Y)\n",
        "print(clf.feature_importances_)\n",
        "print(clf.feature_importances_)\n",
        "X[0]\n",
        "print(clf.predict([[5.1, 3.5, 1.4, 0.2]]))\n",
        "print(clf.predict(X[[0]]))\n",
        "print(clf.predict_proba(X[[0]]))\n",
        "clf.fit(iris.data, iris.target_names[iris.target])\n",
        "X_train, X_test, Y_train, Y_test = train_test_split(X, Y, test_size=0.2)\n",
        "X_train.shape, Y_train.shape\n",
        "X_test.shape, Y_test.shape\n",
        "clf.fit(X_train, Y_train)\n",
        "print(clf.predict([[5.1, 3.5, 1.4, 0.2]]))\n",
        "print(clf.predict_proba([[5.1, 3.5, 1.4, 0.2]]))\n",
        "print(clf.predict(X_test))\n",
        "print(Y_test)\n",
        "print(clf.score(X_test, Y_test))"
      ]
    }
  ]
}